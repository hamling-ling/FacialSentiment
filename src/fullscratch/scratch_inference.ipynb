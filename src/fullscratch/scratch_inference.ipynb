{
 "cells": [
  {
   "cell_type": "code",
   "execution_count": null,
   "metadata": {},
   "outputs": [],
   "source": [
    "import os\n",
    "import numpy as np\n",
    "import matplotlib.pyplot as plt\n",
    "import pandas as pd\n",
    "from PIL import Image\n",
    "\n",
    "import tensorflow as tf\n",
    "from mobilenet_v2 import MobileNetv2\n",
    "\n",
    "from keras.optimizers import Adam\n",
    "from keras.preprocessing.image import ImageDataGenerator\n",
    "from keras.callbacks import EarlyStopping\n",
    "from keras.layers import Conv2D, Reshape, Activation\n",
    "from keras.models import Model"
   ]
  },
  {
   "cell_type": "code",
   "execution_count": null,
   "metadata": {},
   "outputs": [],
   "source": [
    "DATA_PATH = '../../data/input/PublicTest'\n",
    "WEIGHT_PATH = 'model/weights_face_grapy96_30eps.h5'\n",
    "DATA_SIZE = 96"
   ]
  },
  {
   "cell_type": "code",
   "execution_count": null,
   "metadata": {},
   "outputs": [],
   "source": [
    "datagen = ImageDataGenerator(rescale=1. / 255)\n",
    "flow = datagen.flow_from_directory(\n",
    "        DATA_PATH,\n",
    "        target_size=(DATA_SIZE, DATA_SIZE),\n",
    "        batch_size=1,\n",
    "        color_mode=\"grayscale\",\n",
    "        class_mode='categorical')\n",
    "                             \n",
    "print (flow.class_indices)"
   ]
  },
  {
   "cell_type": "code",
   "execution_count": null,
   "metadata": {},
   "outputs": [],
   "source": [
    "model = MobileNetv2((DATA_SIZE,DATA_SIZE,1),len(flow.class_indices))"
   ]
  },
  {
   "cell_type": "code",
   "execution_count": null,
   "metadata": {},
   "outputs": [],
   "source": [
    "model.load_weights(WEIGHT_PATH)\n",
    "opt = Adam()\n",
    "earlystop = EarlyStopping(monitor='val_acc', patience=30, verbose=0, mode='auto')\n",
    "model.compile(loss='categorical_crossentropy', optimizer=opt, metrics=['accuracy'])"
   ]
  },
  {
   "cell_type": "code",
   "execution_count": null,
   "metadata": {},
   "outputs": [],
   "source": [
    "model.summary()"
   ]
  },
  {
   "cell_type": "code",
   "execution_count": null,
   "metadata": {},
   "outputs": [],
   "source": [
    "def get_keys_from_value(d, val):\n",
    "    return [k for k, v in d.items() if v == val]\n",
    "\n",
    "def label_from_raw(labels, raw_values):\n",
    "    idx = np.argmax(raw_values)\n",
    "    return get_keys_from_value(labels, idx)"
   ]
  },
  {
   "cell_type": "code",
   "execution_count": null,
   "metadata": {},
   "outputs": [],
   "source": [
    "model._make_predict_function()\n",
    "\n",
    "image_batch, label_batch = next(flow)\n",
    "pred_raw = model.predict(image_batch)\n",
    "idx = np.argmax(pred_raw)\n",
    "pred_label = label_from_raw(flow.class_indices, pred_raw)\n",
    "true_label = label_from_raw(flow.class_indices, label_batch[0])\n",
    "\n",
    "fix, ax = plt.subplots()\n",
    "ax.imshow(image_batch[0].reshape([DATA_SIZE, DATA_SIZE]), cmap=\"gray\")\n",
    "plt.show()\n",
    "print(\"truth\", true_label)\n",
    "print(\"prediction\", pred_label)"
   ]
  },
  {
   "cell_type": "code",
   "execution_count": null,
   "metadata": {},
   "outputs": [],
   "source": [
    "model.save('model.h5')"
   ]
  },
  {
   "cell_type": "code",
   "execution_count": null,
   "metadata": {},
   "outputs": [],
   "source": []
  }
 ],
 "metadata": {
  "kernelspec": {
   "display_name": "Python 3",
   "language": "python",
   "name": "python3"
  },
  "language_info": {
   "codemirror_mode": {
    "name": "ipython",
    "version": 3
   },
   "file_extension": ".py",
   "mimetype": "text/x-python",
   "name": "python",
   "nbconvert_exporter": "python",
   "pygments_lexer": "ipython3",
   "version": "3.6.9"
  }
 },
 "nbformat": 4,
 "nbformat_minor": 4
}
