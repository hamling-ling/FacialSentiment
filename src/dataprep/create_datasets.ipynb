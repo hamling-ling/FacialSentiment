{
 "cells": [
  {
   "cell_type": "code",
   "execution_count": null,
   "metadata": {},
   "outputs": [],
   "source": [
    "import os\n",
    "import pandas as pd\n",
    "import numpy as np\n",
    "import matplotlib.pyplot as plt\n",
    "from PIL import Image"
   ]
  },
  {
   "cell_type": "code",
   "execution_count": null,
   "metadata": {},
   "outputs": [],
   "source": [
    "# fer2013.csv path\n",
    "FER2013CSV_PATH = '../../data/raw/fer2013.csv'\n",
    "# fer2013new.csv path\n",
    "FER2013NEWCSV_PATH = '../../data/raw/fer2013new.csv'\n",
    "# path to output directory\n",
    "TOP_SAVE_DIR=\"../../data/input\""
   ]
  },
  {
   "cell_type": "code",
   "execution_count": null,
   "metadata": {
    "scrolled": true
   },
   "outputs": [],
   "source": [
    "df = pd.read_csv(FER2013CSV_PATH)\n",
    "print(df)"
   ]
  },
  {
   "cell_type": "code",
   "execution_count": null,
   "metadata": {},
   "outputs": [],
   "source": [
    "df.head(5)"
   ]
  },
  {
   "cell_type": "code",
   "execution_count": null,
   "metadata": {},
   "outputs": [],
   "source": [
    "dfp = pd.read_csv(FER2013NEWCSV_PATH)"
   ]
  },
  {
   "cell_type": "code",
   "execution_count": null,
   "metadata": {
    "scrolled": true
   },
   "outputs": [],
   "source": [
    "dfp[0:5]"
   ]
  },
  {
   "cell_type": "code",
   "execution_count": null,
   "metadata": {
    "scrolled": true
   },
   "outputs": [],
   "source": [
    "pixels_str = df[\"pixels\"][4]\n",
    "pixels_np = np.fromstring(pixels_str, np.float32, sep=' ')\n",
    "pixels_np = pixels_np.reshape(48, 48)\n",
    "\n",
    "fix, ax = plt.subplots()\n",
    "ax.imshow(pixels_np, cmap=\"gray\")\n",
    "plt.show()\n",
    "\n",
    "print(\"(min,max)=\", np.min(pixels_np), np.max(pixels_np))"
   ]
  },
  {
   "cell_type": "code",
   "execution_count": null,
   "metadata": {},
   "outputs": [],
   "source": [
    "def createDirs(top_dir, usages, emos):\n",
    "    for d in usages:\n",
    "        for s in emos:\n",
    "            newdir = os.path.join(top_dir, d, s)\n",
    "            os.makedirs(newdir, exist_ok=True)\n",
    "            #print(newdir)\n",
    "\n",
    "def extractRowFromFarPlus(row):\n",
    "    ret_usage = row[0]\n",
    "    ret_name = row[1]\n",
    "    max_count = 0\n",
    "    max_count_i = 0\n",
    "    for i in range(2, 12): # [2,11]\n",
    "        #print(i, row[i])\n",
    "        if max_count < row[i] :\n",
    "            max_count = row[i]\n",
    "            max_score = i - 2\n",
    "    return ret_usage, ret_name, max_score\n",
    "\n",
    "def extractPixelsFromFar(pixels_str):\n",
    "    pixels_np = np.fromstring(pixels_str, np.float32, sep=' ')\n",
    "    pixels_np = pixels_np.reshape(48, 48)\n",
    "    return pixels_np\n",
    "\n",
    "def saveImage(save_path, pixels):\n",
    "    image = Image.fromarray(pixels.astype(np.uint8))\n",
    "    image.save(save_path, format='PNG')\n",
    "    print(\"saved\", save_path)"
   ]
  },
  {
   "cell_type": "code",
   "execution_count": null,
   "metadata": {},
   "outputs": [],
   "source": [
    "usages = set(dfp['Usage'])\n",
    "emos = dfp.keys()[2:11]\n",
    "createDirs(TOP_SAVE_DIR, usages, emos)\n",
    "\n",
    "for i, row in dfp.iterrows():\n",
    "    img_usage, img_name, img_score = extractRowFromFarPlus(row)\n",
    "    if img_score == 9:\n",
    "        continue\n",
    "    img_pixels = extractPixelsFromFar(df['pixels'][i])\n",
    "    save_path = os.path.join(TOP_SAVE_DIR, img_usage, emos[img_score], img_name,)\n",
    "    saveImage(save_path, img_pixels)"
   ]
  },
  {
   "cell_type": "code",
   "execution_count": null,
   "metadata": {},
   "outputs": [],
   "source": [
    "image = Image.fromarray(pixels_np.astype(np.uint8))\n",
    "image.save('sample.png', format='PNG')\n",
    "\n",
    "img = plt.imread(\"../../data/input/Training/neutral/fer0000004.png\")\n",
    "fix, ax = plt.subplots()\n",
    "ax.imshow(img, cmap=\"gray\")\n",
    "plt.show()\n",
    "\n",
    "np_restore = np.array(img)*255.0\n",
    "print(\"(min,max)=\", np.min(np_restore), np.max(np_restore))"
   ]
  },
  {
   "cell_type": "code",
   "execution_count": null,
   "metadata": {},
   "outputs": [],
   "source": []
  }
 ],
 "metadata": {
  "kernelspec": {
   "display_name": "Python 3",
   "language": "python",
   "name": "python3"
  },
  "language_info": {
   "codemirror_mode": {
    "name": "ipython",
    "version": 3
   },
   "file_extension": ".py",
   "mimetype": "text/x-python",
   "name": "python",
   "nbconvert_exporter": "python",
   "pygments_lexer": "ipython3",
   "version": "3.6.9"
  }
 },
 "nbformat": 4,
 "nbformat_minor": 4
}
