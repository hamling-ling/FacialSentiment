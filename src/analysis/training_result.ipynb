{
 "cells": [
  {
   "cell_type": "code",
   "execution_count": null,
   "metadata": {},
   "outputs": [],
   "source": [
    "import os\n",
    "import numpy as np\n",
    "import matplotlib.pyplot as plt\n",
    "import pandas as pd\n",
    "from PIL import Image"
   ]
  },
  {
   "cell_type": "code",
   "execution_count": null,
   "metadata": {},
   "outputs": [],
   "source": [
    "!echo \"loss,accuracy,val_loss,val_accuracy\" > curve.csv\n",
    "!cat ../face96_300eps.log | \\\n",
    "grep -P \"\\s*1109/1109\" | \\\n",
    "sed -n \"s/^.*loss: \\([0-9\\.]*\\).*accuracy: \\([0-9\\.]*\\).*val_loss: \\([0-9\\.]*\\).*val_accuracy: \\([0-9\\.]*\\)$/\\1, \\2, \\3, \\4/p\" \\\n",
    ">> curve.csv"
   ]
  },
  {
   "cell_type": "code",
   "execution_count": null,
   "metadata": {},
   "outputs": [],
   "source": [
    "df = pd.read_csv('curve.csv')\n",
    "df.head(5)"
   ]
  },
  {
   "cell_type": "code",
   "execution_count": null,
   "metadata": {},
   "outputs": [],
   "source": [
    "plt.plot(df['loss'], label=\"training loss\")\n",
    "plt.plot(df['val_loss'], label=\"validation loss\")\n",
    "plt.legend()\n",
    "plt.show()"
   ]
  },
  {
   "cell_type": "code",
   "execution_count": null,
   "metadata": {},
   "outputs": [],
   "source": [
    "fig = plt.figure()\n",
    "ax = fig.add_subplot(1, 1, 1)\n",
    "\n",
    "# plot\n",
    "ax.plot(df['accuracy'], label=\"training accuracy\")\n",
    "ax.plot(df['val_accuracy'], label=\"validation accuracy\")\n",
    "ax.set_xlabel('epoch')\n",
    "ax.set_title('96x96 Grayscale Facial Sentiment Analysis Training Curve')\n",
    "ax.legend()\n",
    "\n",
    "# save as png\n",
    "plt.savefig('figure.png')"
   ]
  },
  {
   "cell_type": "code",
   "execution_count": null,
   "metadata": {},
   "outputs": [],
   "source": []
  }
 ],
 "metadata": {
  "kernelspec": {
   "display_name": "Python 3",
   "language": "python",
   "name": "python3"
  },
  "language_info": {
   "codemirror_mode": {
    "name": "ipython",
    "version": 3
   },
   "file_extension": ".py",
   "mimetype": "text/x-python",
   "name": "python",
   "nbconvert_exporter": "python",
   "pygments_lexer": "ipython3",
   "version": "3.6.9"
  }
 },
 "nbformat": 4,
 "nbformat_minor": 4
}
